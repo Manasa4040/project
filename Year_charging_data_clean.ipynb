{
 "cells": [
  {
   "cell_type": "code",
   "execution_count": 2,
   "id": "27118a34",
   "metadata": {},
   "outputs": [],
   "source": [
    "# Dependencies and Setup\n",
    "from pathlib import Path\n",
    "import pandas as pd\n",
    "#creating file paths\n",
    "path_2019= Path(\"Resources/Clean_2019_EV_ChargeStation.csv\")\n",
    "path_2020 =Path(\"Resources/Clean_2020_EV_ChargeStation.csv\")\n",
    "path_2021 =Path(\"Resources/Clean_2021_EV_ChargeStation.csv\")\n",
    "# reading the data\n",
    "df_2019 =pd.read_csv(path_2019)\n",
    "df_2019_clean = df_2019.drop([\"Index\"],axis=1)\n",
    "df_2020 =pd.read_csv(path_2020)\n",
    "df_2020_clean = df_2020.drop([\"Index\"],axis=1)\n",
    "df_2021 =pd.read_csv(path_2021)\n",
    "df_2021_clean = df_2021.drop([\"Index\"],axis=1)\n",
    "#merging the data into one single data frame\n",
    "df_2019_2020 = pd.merge(df_2019_clean,df_2020_clean,how =\"left\",on=\"State\")\n",
    "\n",
    "df_2019_2021 = pd.merge(df_2019_2020,df_2021_clean,how =\"left\",on=\"State\")\n",
    "df_2019_2021_clean = df_2019_2021.drop([\"2019 - No.EV Charge Stations\",\"2020 - No.EV Charge Stations\",\n",
    "                                        \"2021 - No.EV Charge Stations\"],axis =1)\n",
    "df_2019_2021_clean.to_csv(\"Resources/df_2019_2021_clean.csv\",index_label=\"Index\")"
   ]
  },
  {
   "cell_type": "code",
   "execution_count": null,
   "id": "d74e7389",
   "metadata": {},
   "outputs": [],
   "source": []
  }
 ],
 "metadata": {
  "kernelspec": {
   "display_name": "Python 3 (ipykernel)",
   "language": "python",
   "name": "python3"
  },
  "language_info": {
   "codemirror_mode": {
    "name": "ipython",
    "version": 3
   },
   "file_extension": ".py",
   "mimetype": "text/x-python",
   "name": "python",
   "nbconvert_exporter": "python",
   "pygments_lexer": "ipython3",
   "version": "3.10.9"
  }
 },
 "nbformat": 4,
 "nbformat_minor": 5
}
